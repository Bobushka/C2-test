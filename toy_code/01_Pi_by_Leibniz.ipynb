{
 "cells": [
  {
   "cell_type": "markdown",
   "metadata": {},
   "source": [
    "# Сalculating the pi number using the Leibniz algorithm"
   ]
  },
  {
   "cell_type": "markdown",
   "metadata": {},
   "source": [
    "### Pi = 4 - 4/3 + 4/5 - 4/7 + 4/9 - ...\n",
    "\n",
    "1) What is interesting about this algorithm: the number of zeros after one in the number n (where n is a number of iterations) determines the number of correctly counted significant digits in Pi. Ex, entered n = 1,000,000 (six zeros) - we got the accuracy 3.14159ХХХХХХХХ (six significant numbers)\n",
    "\n",
    "2) The calculation speed is approximately as follows: 10,000 iterations in 1 second (for a MacBookAir 2011 machine with a processor load of about 80%)"
   ]
  },
  {
   "cell_type": "code",
   "execution_count": 3,
   "metadata": {},
   "outputs": [
    {
     "name": "stdin",
     "output_type": "stream",
     "text": [
      "Enter the iterations number...  10000\n"
     ]
    },
    {
     "name": "stdout",
     "output_type": "stream",
     "text": [
      "3.1416926435905346\n"
     ]
    }
   ],
   "source": [
    "import time\n",
    "\n",
    "n = int(input(\"Enter the iterations number... \"))\n",
    "\n",
    "Pi = 4\n",
    "s = 1\n",
    "if n == 0:                      # n should be positive integer\n",
    "    print(Pi)\n",
    "else:\n",
    "    for i in range(n):\n",
    "        m = (i+2)*2 - 1\n",
    "        s = s * (-1)\n",
    "        Pi = Pi + s*4/m\n",
    "        print((i+1), end=\"\\r\")  # the end = \"\\ r\" construct moves coursore to the beginning of the same line\n",
    "time.sleep(2)                   # a timer is needed to see the number of iterations for small n\n",
    "print(Pi)"
   ]
  },
  {
   "cell_type": "code",
   "execution_count": null,
   "metadata": {},
   "outputs": [],
   "source": [
    "# Enter the iterations number...  10000\n",
    "# 3.1416926435905346"
   ]
  }
 ],
 "metadata": {
  "kernelspec": {
   "display_name": "Python 3",
   "language": "python",
   "name": "python3"
  },
  "language_info": {
   "codemirror_mode": {
    "name": "ipython",
    "version": 3
   },
   "file_extension": ".py",
   "mimetype": "text/x-python",
   "name": "python",
   "nbconvert_exporter": "python",
   "pygments_lexer": "ipython3",
   "version": "3.8.5"
  }
 },
 "nbformat": 4,
 "nbformat_minor": 4
}
