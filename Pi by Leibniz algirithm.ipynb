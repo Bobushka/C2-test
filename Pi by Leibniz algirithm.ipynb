{
 "cells": [
  {
   "cell_type": "markdown",
   "metadata": {},
   "source": [
    "## Hello Git\n",
    "учимся по этому ролику:\n",
    "https://youtu.be/zZBiln_2FhM\n",
    "\n",
    "текст: https://vk.com/@vladilen.minin-git-and-github"
   ]
  },
  {
   "cell_type": "code",
   "execution_count": 4,
   "metadata": {},
   "outputs": [],
   "source": [
    "# it's important note from GitHub: заход по паролю и юзернейму скоро работать не будет.\n",
    "# https://github.blog/2020-12-15-token-authentication-requirements-for-git-operations/"
   ]
  },
  {
   "cell_type": "markdown",
   "metadata": {},
   "source": [
    "# Step 1. Let's scrab the dataframe from Wiki"
   ]
  },
  {
   "cell_type": "markdown",
   "metadata": {},
   "source": [
    "#### source: https://en.wikipedia.org/wiki/Demographics_of_Toronto_neighbourhoods"
   ]
  },
  {
   "cell_type": "code",
   "execution_count": 286,
   "metadata": {},
   "outputs": [
    {
     "data": {
      "text/html": [
       "<div>\n",
       "<style scoped>\n",
       "    .dataframe tbody tr th:only-of-type {\n",
       "        vertical-align: middle;\n",
       "    }\n",
       "\n",
       "    .dataframe tbody tr th {\n",
       "        vertical-align: top;\n",
       "    }\n",
       "\n",
       "    .dataframe thead th {\n",
       "        text-align: right;\n",
       "    }\n",
       "</style>\n",
       "<table border=\"1\" class=\"dataframe\">\n",
       "  <thead>\n",
       "    <tr style=\"text-align: right;\">\n",
       "      <th></th>\n",
       "      <th>Name</th>\n",
       "      <th>FM</th>\n",
       "      <th>Census Tracts</th>\n",
       "      <th>Population</th>\n",
       "      <th>Land area (km2)</th>\n",
       "      <th>Density (people/km2)</th>\n",
       "      <th>% Change in Population since 2001</th>\n",
       "      <th>Average Income</th>\n",
       "      <th>Transit Commuting %</th>\n",
       "      <th>% Renters</th>\n",
       "      <th>Second most common language (after English) by name</th>\n",
       "      <th>Second most common language (after English) by percentage</th>\n",
       "      <th>Map</th>\n",
       "    </tr>\n",
       "  </thead>\n",
       "  <tbody>\n",
       "  </tbody>\n",
       "</table>\n",
       "</div>"
      ],
      "text/plain": [
       "Empty DataFrame\n",
       "Columns: [Name, FM, Census Tracts, Population, Land area (km2), Density (people/km2), % Change in Population since 2001, Average Income, Transit Commuting %, % Renters, Second most common language (after English) by name, Second most common language (after English) by percentage, Map]\n",
       "Index: []"
      ]
     },
     "execution_count": 286,
     "metadata": {},
     "output_type": "execute_result"
    }
   ],
   "source": [
    "import pandas as pd\n",
    "import numpy as np\n",
    "import requests\n",
    "from bs4 import BeautifulSoup\n",
    "\n",
    "URL = 'https://en.wikipedia.org/wiki/Demographics_of_Toronto_neighbourhoods'\n",
    "response = requests.get(URL)\n",
    "soup = BeautifulSoup(response.text, 'html.parser') \n",
    "\n",
    "# there are 5 tables on the wiki's page, so we need to use find_all command\n",
    "table_all = soup.find_all('table',{'class':'wikitable sortable'})\n",
    "\n",
    "# we want to scrab the 5th table (\"Scarborough\")\n",
    "table = table_all[4].tbody \n",
    "\n",
    "rows = table.find_all('tr')\n",
    "column_names = [v.text.replace('\\n','') for v in rows[0].find_all('th')]\n",
    "\n",
    "df = pd.DataFrame(columns=column_names)\n",
    "df.head()"
   ]
  },
  {
   "cell_type": "code",
   "execution_count": 287,
   "metadata": {},
   "outputs": [
    {
     "data": {
      "text/html": [
       "<div>\n",
       "<style scoped>\n",
       "    .dataframe tbody tr th:only-of-type {\n",
       "        vertical-align: middle;\n",
       "    }\n",
       "\n",
       "    .dataframe tbody tr th {\n",
       "        vertical-align: top;\n",
       "    }\n",
       "\n",
       "    .dataframe thead th {\n",
       "        text-align: right;\n",
       "    }\n",
       "</style>\n",
       "<table border=\"1\" class=\"dataframe\">\n",
       "  <thead>\n",
       "    <tr style=\"text-align: right;\">\n",
       "      <th></th>\n",
       "      <th>Name</th>\n",
       "      <th>FM</th>\n",
       "      <th>Census Tracts</th>\n",
       "      <th>Population</th>\n",
       "      <th>Land area (km2)</th>\n",
       "      <th>Density (people/km2)</th>\n",
       "      <th>% Change in Population since 2001</th>\n",
       "      <th>Average Income</th>\n",
       "      <th>Transit Commuting %</th>\n",
       "      <th>% Renters</th>\n",
       "      <th>Second most common language (after English) by name</th>\n",
       "      <th>Second most common language (after English) by percentage</th>\n",
       "      <th>Map</th>\n",
       "    </tr>\n",
       "  </thead>\n",
       "  <tbody>\n",
       "    <tr>\n",
       "      <th>0</th>\n",
       "      <td>Toronto CMA Average</td>\n",
       "      <td></td>\n",
       "      <td>All</td>\n",
       "      <td>5,113,149</td>\n",
       "      <td>5903.63</td>\n",
       "      <td>866</td>\n",
       "      <td>9.0</td>\n",
       "      <td>40,704</td>\n",
       "      <td>10.6</td>\n",
       "      <td>11.4</td>\n",
       "      <td></td>\n",
       "      <td></td>\n",
       "      <td></td>\n",
       "    </tr>\n",
       "    <tr>\n",
       "      <th>1</th>\n",
       "      <td>Agincourt</td>\n",
       "      <td>S</td>\n",
       "      <td>0377.01, 0377.02, 0377.03, 0377.04, 0378.02, 0...</td>\n",
       "      <td>44,577</td>\n",
       "      <td>12.45</td>\n",
       "      <td>3580</td>\n",
       "      <td>4.6</td>\n",
       "      <td>25,750</td>\n",
       "      <td>11.1</td>\n",
       "      <td>5.9</td>\n",
       "      <td>Cantonese (19.3%)</td>\n",
       "      <td>19.3% Cantonese</td>\n",
       "      <td></td>\n",
       "    </tr>\n",
       "    <tr>\n",
       "      <th>2</th>\n",
       "      <td>Alexandra Park</td>\n",
       "      <td>OCoT</td>\n",
       "      <td>0039.00</td>\n",
       "      <td>4,355</td>\n",
       "      <td>0.32</td>\n",
       "      <td>13,609</td>\n",
       "      <td>0.0</td>\n",
       "      <td>19,687</td>\n",
       "      <td>13.8</td>\n",
       "      <td>28.0</td>\n",
       "      <td>Cantonese (17.9%)</td>\n",
       "      <td>17.9% Cantonese</td>\n",
       "      <td></td>\n",
       "    </tr>\n",
       "    <tr>\n",
       "      <th>3</th>\n",
       "      <td>Allenby</td>\n",
       "      <td>OCoT</td>\n",
       "      <td>0140.00</td>\n",
       "      <td>2,513</td>\n",
       "      <td>0.58</td>\n",
       "      <td>4333</td>\n",
       "      <td>-1.0</td>\n",
       "      <td>245,592</td>\n",
       "      <td>5.2</td>\n",
       "      <td>3.4</td>\n",
       "      <td>Russian (1.4%)</td>\n",
       "      <td>01.4% Russian</td>\n",
       "      <td></td>\n",
       "    </tr>\n",
       "    <tr>\n",
       "      <th>4</th>\n",
       "      <td>Amesbury</td>\n",
       "      <td>NY</td>\n",
       "      <td>0280.00, 0281.01, 0281.02</td>\n",
       "      <td>17,318</td>\n",
       "      <td>3.51</td>\n",
       "      <td>4,934</td>\n",
       "      <td>1.1</td>\n",
       "      <td>27,546</td>\n",
       "      <td>16.4</td>\n",
       "      <td>19.7</td>\n",
       "      <td>Spanish (6.1%)</td>\n",
       "      <td>06.1% Spanish</td>\n",
       "      <td></td>\n",
       "    </tr>\n",
       "    <tr>\n",
       "      <th>...</th>\n",
       "      <td>...</td>\n",
       "      <td>...</td>\n",
       "      <td>...</td>\n",
       "      <td>...</td>\n",
       "      <td>...</td>\n",
       "      <td>...</td>\n",
       "      <td>...</td>\n",
       "      <td>...</td>\n",
       "      <td>...</td>\n",
       "      <td>...</td>\n",
       "      <td>...</td>\n",
       "      <td>...</td>\n",
       "      <td>...</td>\n",
       "    </tr>\n",
       "    <tr>\n",
       "      <th>151</th>\n",
       "      <td>Woburn</td>\n",
       "      <td>S</td>\n",
       "      <td>0356.00, 0357.01, 0357.02, 0363.07, 0364.01, 0...</td>\n",
       "      <td>48,507</td>\n",
       "      <td>13.34</td>\n",
       "      <td>3636</td>\n",
       "      <td>-1.5</td>\n",
       "      <td>26,190</td>\n",
       "      <td>13.3</td>\n",
       "      <td>16.0</td>\n",
       "      <td>Gujarati (9.1%)</td>\n",
       "      <td>09.1% Gujarati</td>\n",
       "      <td></td>\n",
       "    </tr>\n",
       "    <tr>\n",
       "      <th>152</th>\n",
       "      <td>Wychwood</td>\n",
       "      <td>OCoT</td>\n",
       "      <td>0116.00</td>\n",
       "      <td>4,182</td>\n",
       "      <td>0.68</td>\n",
       "      <td>6150</td>\n",
       "      <td>-2.0</td>\n",
       "      <td>53,613</td>\n",
       "      <td>17.1</td>\n",
       "      <td>20.1</td>\n",
       "      <td>Portuguese (2.7%)</td>\n",
       "      <td>02.7% Portuguese</td>\n",
       "      <td></td>\n",
       "    </tr>\n",
       "    <tr>\n",
       "      <th>153</th>\n",
       "      <td>York Mills</td>\n",
       "      <td>NY</td>\n",
       "      <td>0273.01, 0273.02, 0274.01, 0274.02</td>\n",
       "      <td>17,564</td>\n",
       "      <td>7.29</td>\n",
       "      <td>2409</td>\n",
       "      <td>2.0</td>\n",
       "      <td>92,099</td>\n",
       "      <td>10.0</td>\n",
       "      <td>11.8</td>\n",
       "      <td>Korean (4.0%)</td>\n",
       "      <td>04.0% Korean</td>\n",
       "      <td></td>\n",
       "    </tr>\n",
       "    <tr>\n",
       "      <th>154</th>\n",
       "      <td>York University Heights</td>\n",
       "      <td>NY</td>\n",
       "      <td>0311.02, 0311.03, 0311.04, 0311.05, 0311.06</td>\n",
       "      <td>26,140</td>\n",
       "      <td>13.21</td>\n",
       "      <td>1979</td>\n",
       "      <td>-1.2</td>\n",
       "      <td>24,432</td>\n",
       "      <td>15.2</td>\n",
       "      <td>20.4</td>\n",
       "      <td>Italian (6.6%)</td>\n",
       "      <td>06.6% Italian</td>\n",
       "      <td></td>\n",
       "    </tr>\n",
       "    <tr>\n",
       "      <th>155</th>\n",
       "      <td>Yorkville</td>\n",
       "      <td>OCoT</td>\n",
       "      <td>0088.00, 0089.00</td>\n",
       "      <td>6,045</td>\n",
       "      <td>0.56</td>\n",
       "      <td>10,795</td>\n",
       "      <td>62.6</td>\n",
       "      <td>105,239</td>\n",
       "      <td>18.3</td>\n",
       "      <td>27.9</td>\n",
       "      <td>French (1.9%)</td>\n",
       "      <td>01.9% French</td>\n",
       "      <td></td>\n",
       "    </tr>\n",
       "  </tbody>\n",
       "</table>\n",
       "<p>156 rows × 13 columns</p>\n",
       "</div>"
      ],
      "text/plain": [
       "                        Name    FM  \\\n",
       "0        Toronto CMA Average         \n",
       "1                  Agincourt     S   \n",
       "2             Alexandra Park  OCoT   \n",
       "3                    Allenby  OCoT   \n",
       "4                   Amesbury    NY   \n",
       "..                       ...   ...   \n",
       "151                   Woburn     S   \n",
       "152                 Wychwood  OCoT   \n",
       "153               York Mills    NY   \n",
       "154  York University Heights    NY   \n",
       "155                Yorkville  OCoT   \n",
       "\n",
       "                                         Census Tracts Population  \\\n",
       "0                                                  All  5,113,149   \n",
       "1    0377.01, 0377.02, 0377.03, 0377.04, 0378.02, 0...     44,577   \n",
       "2                                              0039.00      4,355   \n",
       "3                                              0140.00      2,513   \n",
       "4                            0280.00, 0281.01, 0281.02     17,318   \n",
       "..                                                 ...        ...   \n",
       "151  0356.00, 0357.01, 0357.02, 0363.07, 0364.01, 0...     48,507   \n",
       "152                                            0116.00      4,182   \n",
       "153                 0273.01, 0273.02, 0274.01, 0274.02     17,564   \n",
       "154        0311.02, 0311.03, 0311.04, 0311.05, 0311.06     26,140   \n",
       "155                                   0088.00, 0089.00      6,045   \n",
       "\n",
       "    Land area (km2) Density (people/km2) % Change in Population since 2001  \\\n",
       "0           5903.63                  866                               9.0   \n",
       "1             12.45                 3580                               4.6   \n",
       "2              0.32               13,609                               0.0   \n",
       "3              0.58                 4333                              -1.0   \n",
       "4              3.51                4,934                               1.1   \n",
       "..              ...                  ...                               ...   \n",
       "151           13.34                 3636                              -1.5   \n",
       "152            0.68                 6150                              -2.0   \n",
       "153            7.29                 2409                               2.0   \n",
       "154           13.21                 1979                              -1.2   \n",
       "155            0.56               10,795                              62.6   \n",
       "\n",
       "    Average Income Transit Commuting % % Renters  \\\n",
       "0           40,704                10.6      11.4   \n",
       "1           25,750                11.1       5.9   \n",
       "2           19,687                13.8      28.0   \n",
       "3          245,592                 5.2       3.4   \n",
       "4           27,546                16.4      19.7   \n",
       "..             ...                 ...       ...   \n",
       "151         26,190                13.3      16.0   \n",
       "152         53,613                17.1      20.1   \n",
       "153         92,099                10.0      11.8   \n",
       "154         24,432                15.2      20.4   \n",
       "155        105,239                18.3      27.9   \n",
       "\n",
       "    Second most common language (after English) by name  \\\n",
       "0                                                         \n",
       "1                                    Cantonese (19.3%)    \n",
       "2                                    Cantonese (17.9%)    \n",
       "3                                       Russian (1.4%)    \n",
       "4                                       Spanish (6.1%)    \n",
       "..                                                 ...    \n",
       "151                                    Gujarati (9.1%)    \n",
       "152                                  Portuguese (2.7%)    \n",
       "153                                      Korean (4.0%)    \n",
       "154                                     Italian (6.6%)    \n",
       "155                                      French (1.9%)    \n",
       "\n",
       "    Second most common language (after English) by percentage Map  \n",
       "0                                                                  \n",
       "1                                      19.3% Cantonese             \n",
       "2                                      17.9% Cantonese             \n",
       "3                                        01.4% Russian             \n",
       "4                                        06.1% Spanish             \n",
       "..                                                 ...         ..  \n",
       "151                                     09.1% Gujarati             \n",
       "152                                   02.7% Portuguese             \n",
       "153                                       04.0% Korean             \n",
       "154                                      06.6% Italian             \n",
       "155                                       01.9% French             \n",
       "\n",
       "[156 rows x 13 columns]"
      ]
     },
     "execution_count": 287,
     "metadata": {},
     "output_type": "execute_result"
    }
   ],
   "source": [
    "# Now let's fill table by data\n",
    "for i in range(1,len(rows)):\n",
    "    tds = rows[i].find_all('td')\n",
    "    if len(tds)==4:\n",
    "        values = [tds[0].text, tds[1].text, tds[2].text, tds[3].text.replace('\\n',''.replace('\\xa0',''))]\n",
    "    else:\n",
    "        values = [td.text.replace('\\n',''.replace('\\xa0','')) for td in tds]\n",
    "    df = df.append(pd.Series(values, index=column_names), ignore_index=True)\n",
    "\n",
    "df"
   ]
  },
  {
   "cell_type": "markdown",
   "metadata": {},
   "source": [
    "# 2. Let's improve our dataframe"
   ]
  },
  {
   "cell_type": "code",
   "execution_count": 344,
   "metadata": {},
   "outputs": [
    {
     "data": {
      "text/html": [
       "<div>\n",
       "<style scoped>\n",
       "    .dataframe tbody tr th:only-of-type {\n",
       "        vertical-align: middle;\n",
       "    }\n",
       "\n",
       "    .dataframe tbody tr th {\n",
       "        vertical-align: top;\n",
       "    }\n",
       "\n",
       "    .dataframe thead th {\n",
       "        text-align: right;\n",
       "    }\n",
       "</style>\n",
       "<table border=\"1\" class=\"dataframe\">\n",
       "  <thead>\n",
       "    <tr style=\"text-align: right;\">\n",
       "      <th></th>\n",
       "      <th>Neighborhood</th>\n",
       "      <th>Population</th>\n",
       "      <th>Land area (km2)</th>\n",
       "      <th>Density (people/km2)</th>\n",
       "      <th>Change in Population since 2001 (%)</th>\n",
       "      <th>Average Income (CAD)</th>\n",
       "      <th>Transit Commuting %</th>\n",
       "      <th>Renters (%)</th>\n",
       "      <th>Second language after English</th>\n",
       "    </tr>\n",
       "  </thead>\n",
       "  <tbody>\n",
       "    <tr>\n",
       "      <th>0</th>\n",
       "      <td>Toronto CMA Average</td>\n",
       "      <td>5,113,149</td>\n",
       "      <td>5903.63</td>\n",
       "      <td>866</td>\n",
       "      <td>9.0</td>\n",
       "      <td>40,704</td>\n",
       "      <td>10.6</td>\n",
       "      <td>11.4</td>\n",
       "      <td></td>\n",
       "    </tr>\n",
       "    <tr>\n",
       "      <th>1</th>\n",
       "      <td>Agincourt</td>\n",
       "      <td>44,577</td>\n",
       "      <td>12.45</td>\n",
       "      <td>3580</td>\n",
       "      <td>4.6</td>\n",
       "      <td>25,750</td>\n",
       "      <td>11.1</td>\n",
       "      <td>5.9</td>\n",
       "      <td>Cantonese (19.3%)</td>\n",
       "    </tr>\n",
       "    <tr>\n",
       "      <th>2</th>\n",
       "      <td>Alexandra Park</td>\n",
       "      <td>4,355</td>\n",
       "      <td>0.32</td>\n",
       "      <td>13,609</td>\n",
       "      <td>0.0</td>\n",
       "      <td>19,687</td>\n",
       "      <td>13.8</td>\n",
       "      <td>28.0</td>\n",
       "      <td>Cantonese (17.9%)</td>\n",
       "    </tr>\n",
       "    <tr>\n",
       "      <th>3</th>\n",
       "      <td>Allenby</td>\n",
       "      <td>2,513</td>\n",
       "      <td>0.58</td>\n",
       "      <td>4333</td>\n",
       "      <td>-1.0</td>\n",
       "      <td>245,592</td>\n",
       "      <td>5.2</td>\n",
       "      <td>3.4</td>\n",
       "      <td>Russian (1.4%)</td>\n",
       "    </tr>\n",
       "    <tr>\n",
       "      <th>4</th>\n",
       "      <td>Amesbury</td>\n",
       "      <td>17,318</td>\n",
       "      <td>3.51</td>\n",
       "      <td>4,934</td>\n",
       "      <td>1.1</td>\n",
       "      <td>27,546</td>\n",
       "      <td>16.4</td>\n",
       "      <td>19.7</td>\n",
       "      <td>Spanish (6.1%)</td>\n",
       "    </tr>\n",
       "  </tbody>\n",
       "</table>\n",
       "</div>"
      ],
      "text/plain": [
       "          Neighborhood Population Land area (km2) Density (people/km2)  \\\n",
       "0  Toronto CMA Average  5,113,149         5903.63                  866   \n",
       "1            Agincourt     44,577           12.45                 3580   \n",
       "2       Alexandra Park      4,355            0.32               13,609   \n",
       "3              Allenby      2,513            0.58                 4333   \n",
       "4             Amesbury     17,318            3.51                4,934   \n",
       "\n",
       "  Change in Population since 2001 (%) Average Income (CAD)  \\\n",
       "0                                 9.0               40,704   \n",
       "1                                 4.6               25,750   \n",
       "2                                 0.0               19,687   \n",
       "3                                -1.0              245,592   \n",
       "4                                 1.1               27,546   \n",
       "\n",
       "  Transit Commuting % Renters (%) Second language after English  \n",
       "0                10.6        11.4                                \n",
       "1                11.1         5.9             Cantonese (19.3%)  \n",
       "2                13.8        28.0             Cantonese (17.9%)  \n",
       "3                 5.2         3.4                Russian (1.4%)  \n",
       "4                16.4        19.7                Spanish (6.1%)  "
      ]
     },
     "execution_count": 344,
     "metadata": {},
     "output_type": "execute_result"
    }
   ],
   "source": [
    "# Remove four unuseful columns\n",
    "df_1 = df.drop(labels=[\"FM\", \"Census Tracts\", \"Map\", \"Second most common language (after English) by percentage\"], axis=1)\n",
    "\n",
    "# Rename some columns to have better look\n",
    "df_1.rename(columns={\n",
    "    \"Name\": \"Neighborhood\", \n",
    "    \"% Change in Population since 2001\": \"Change in Population since 2001 (%)\",\n",
    "    \"Average Income\": \"Average Income (CAD)\",\n",
    "    \"% Renters\": \"Renters (%)\",\n",
    "    \"Second most common language (after English) by name\": \"Second language after English\"}, \n",
    "    inplace=True)\n",
    "df_1.head()"
   ]
  },
  {
   "cell_type": "code",
   "execution_count": 345,
   "metadata": {},
   "outputs": [
    {
     "data": {
      "text/plain": [
       "4"
      ]
     },
     "execution_count": 345,
     "metadata": {},
     "output_type": "execute_result"
    }
   ],
   "source": [
    "# Does we have some empty rows? Let's check it:\n",
    "(df_1['Neighborhood'].values == '').sum()"
   ]
  },
  {
   "cell_type": "markdown",
   "metadata": {},
   "source": [
    "#### Yes, we have 4 empty rows. They should be deleted."
   ]
  },
  {
   "cell_type": "code",
   "execution_count": 346,
   "metadata": {},
   "outputs": [
    {
     "data": {
      "text/plain": [
       "[65, 68, 95, 96]"
      ]
     },
     "execution_count": 346,
     "metadata": {},
     "output_type": "execute_result"
    }
   ],
   "source": [
    "# Create the List with indexes of empty rows\n",
    "Neighborhood = df_1[\"Neighborhood\"]\n",
    "list_of_empty_rows = []\n",
    "for i in range(1, df_1.shape[0]):\n",
    "    if Neighborhood[i] == '':\n",
    "        list_of_empty_rows.append(i)\n",
    "list_of_empty_rows"
   ]
  },
  {
   "cell_type": "code",
   "execution_count": 347,
   "metadata": {},
   "outputs": [
    {
     "data": {
      "text/plain": [
       "(151, 9)"
      ]
     },
     "execution_count": 347,
     "metadata": {},
     "output_type": "execute_result"
    }
   ],
   "source": [
    "df_1.drop(labels=list_of_empty_rows, inplace=True)\n",
    "df_1.drop(labels=0, inplace=True)                    # Also remove first row with average information\n",
    "df_1.reset_index(drop=True, inplace=True)\n",
    "df_1.shape"
   ]
  },
  {
   "cell_type": "code",
   "execution_count": 292,
   "metadata": {},
   "outputs": [
    {
     "data": {
      "text/plain": [
       "Neighborhood                           object\n",
       "Population                             object\n",
       "Land area (km2)                        object\n",
       "Density (people/km2)                   object\n",
       "Change in Population since 2001 (%)    object\n",
       "Average Income (CAD)                   object\n",
       "Transit Commuting %                    object\n",
       "Renters (%)                            object\n",
       "Second language after English          object\n",
       "dtype: object"
      ]
     },
     "execution_count": 292,
     "metadata": {},
     "output_type": "execute_result"
    }
   ],
   "source": [
    "# Let's chek the data types \n",
    "df_1.dtypes"
   ]
  },
  {
   "cell_type": "markdown",
   "metadata": {},
   "source": [
    "#### All datas were parced as an objects. As object type datas can't be processed, we need to fixed it."
   ]
  },
  {
   "cell_type": "code",
   "execution_count": 348,
   "metadata": {},
   "outputs": [
    {
     "data": {
      "text/plain": [
       "Neighborhood                           string\n",
       "Population                             string\n",
       "Land area (km2)                        string\n",
       "Density (people/km2)                   string\n",
       "Change in Population since 2001 (%)    string\n",
       "Average Income (CAD)                   string\n",
       "Transit Commuting %                    string\n",
       "Renters (%)                            string\n",
       "Second language after English          string\n",
       "dtype: object"
      ]
     },
     "execution_count": 348,
     "metadata": {},
     "output_type": "execute_result"
    }
   ],
   "source": [
    "# Let's try to use \"convert_dtype\" command:\n",
    "df_1 = df_1.convert_dtypes()\n",
    "df_1.dtypes"
   ]
  },
  {
   "cell_type": "markdown",
   "metadata": {},
   "source": [
    "#### Now we have string type for all cells. Let's transfer strings to float for columns with numerical datas:"
   ]
  },
  {
   "cell_type": "code",
   "execution_count": 349,
   "metadata": {},
   "outputs": [
    {
     "data": {
      "text/plain": [
       "Neighborhood                            string\n",
       "Population                             float64\n",
       "Land area (km2)                        float64\n",
       "Density (people/km2)                   float64\n",
       "Change in Population since 2001 (%)    float64\n",
       "Average Income (CAD)                   float64\n",
       "Transit Commuting %                     string\n",
       "Renters (%)                            float64\n",
       "Second language after English           string\n",
       "dtype: object"
      ]
     },
     "execution_count": 349,
     "metadata": {},
     "output_type": "execute_result"
    }
   ],
   "source": [
    "# Step_1. Replace all commas to dots:\n",
    "df_1[\"Population\"] = df_1[\"Population\"].str.replace(',','.')\n",
    "df_1[\"Density (people/km2)\"] = df_1[\"Density (people/km2)\"].str.replace(',','.')\n",
    "df_1[\"Average Income (CAD)\"] = df_1[\"Average Income (CAD)\"].str.replace(',','.')\n",
    "\n",
    "# Step_2. Change all numeric datas to float type:\n",
    "df_1[\"Population\"] = df_1[\"Population\"].astype(float)\n",
    "df_1[\"Land area (km2)\"] = df_1[\"Land area (km2)\"].astype(float)\n",
    "df_1[\"Density (people/km2)\"] = df_1[\"Density (people/km2)\"].astype(float)\n",
    "df_1[\"Change in Population since 2001 (%)\"] = df_1[\"Change in Population since 2001 (%)\"].astype(float)\n",
    "df_1[\"Average Income (CAD)\"] = df_1[\"Average Income (CAD)\"].astype(float)\n",
    "# df_1[\"Transit Commuting %\"] = df_1[\"Transit Commuting %\"].astype(float)  - Very strange column... Let's ignore it\n",
    "df_1[\"Renters (%)\"] = df_1[\"Renters (%)\"].astype(float)\n",
    "df_1.dtypes"
   ]
  },
  {
   "cell_type": "markdown",
   "metadata": {},
   "source": [
    "#### The last improvement - edit all Neighborhood names to provide Geolocator correct work:"
   ]
  },
  {
   "cell_type": "code",
   "execution_count": 374,
   "metadata": {},
   "outputs": [
    {
     "data": {
      "text/plain": [
       "(151, 9)"
      ]
     },
     "execution_count": 374,
     "metadata": {},
     "output_type": "execute_result"
    }
   ],
   "source": [
    "df_1.shape"
   ]
  },
  {
   "cell_type": "code",
   "execution_count": 365,
   "metadata": {},
   "outputs": [
    {
     "data": {
      "text/plain": [
       "(146, 9)"
      ]
     },
     "execution_count": 365,
     "metadata": {},
     "output_type": "execute_result"
    }
   ],
   "source": [
    "# Step_2. Deleting the Neighborhood names unsupported by Geolocator:\n",
    "df_2 = df_1.drop(labels=[34, 65, 101, 105, 123])\n",
    "df_2.reset_index(drop=True, inplace=True)\n",
    "df_2.shape"
   ]
  },
  {
   "cell_type": "markdown",
   "metadata": {},
   "source": [
    "#### Now we have all dataframe ready to be analyzed."
   ]
  },
  {
   "cell_type": "markdown",
   "metadata": {},
   "source": [
    "# 3. Let's get geografical coordinates of Neighborhoods"
   ]
  },
  {
   "cell_type": "markdown",
   "metadata": {},
   "source": [
    "#### получение геокоординат по адресам: https://vk.cc/bYl5a2"
   ]
  },
  {
   "cell_type": "code",
   "execution_count": 215,
   "metadata": {},
   "outputs": [
    {
     "name": "stdout",
     "output_type": "stream",
     "text": [
      "Collecting package metadata (current_repodata.json): done\n",
      "Solving environment: - \n",
      "Warning: 4 possible package resolutions (only showing differing packages):\n",
      "  - anaconda/osx-64::ca-certificates-2020.10.14-0, anaconda/osx-64::openssl-1.1.1h-haf1e3a3_0\n",
      "  - anaconda/osx-64::openssl-1.1.1h-haf1e3a3_0, defaults/osx-64::ca-certificates-2020.10.14-0\n",
      "  - anaconda/osx-64::ca-certificates-2020.10.14-0, defaults/osx-64::openssl-1.1.1h-haf1e3a3_0\n",
      "  - defaults/osx-64::ca-certificates-2020.10.14-0, defaults/osx-64::openssl-1.1.1h-haf1e3a3done\n",
      "\n",
      "# All requested packages already installed.\n",
      "\n"
     ]
    }
   ],
   "source": [
    "# !pip install selenium \n",
    "# from selenium import webdriver\n",
    "# from tqdm import tqdm_notebook as tqdmn\n",
    "# import time\n",
    "\n",
    "import folium\n",
    "!conda install -c conda-forge geopy --yes\n",
    "from geopy.geocoders import Nominatim        # convert an address into latitude and longitude values"
   ]
  },
  {
   "cell_type": "code",
   "execution_count": 367,
   "metadata": {},
   "outputs": [],
   "source": [
    "n = df_2.shape[0]                    # number of Neighborhoods\n",
    "Lat = pd.Series([0.0] * n)           # create empty Series for latitudes\n",
    "Lon = pd.Series([0.0] * n)           # create empty Series for longitude\n",
    "Neighborhood = df_2[\"Neighborhood\"]  # list of Neighborhood names"
   ]
  },
  {
   "cell_type": "code",
   "execution_count": 372,
   "metadata": {},
   "outputs": [],
   "source": [
    "# Get Neighborhood geocoordinares from Geolocator library. It will take a couple of minutes:\n",
    "geolocator = Nominatim(user_agent=\"Scarborough_explorer\")\n",
    "for i in range(n):\n",
    "    address = Neighborhood[i] + ', Toronto, Ontario'\n",
    "    location = geolocator.geocode(address)\n",
    "    Lat[i] = location.latitude\n",
    "    Lon[i] = location.longitude  "
   ]
  },
  {
   "cell_type": "code",
   "execution_count": 373,
   "metadata": {},
   "outputs": [
    {
     "data": {
      "text/html": [
       "<div>\n",
       "<style scoped>\n",
       "    .dataframe tbody tr th:only-of-type {\n",
       "        vertical-align: middle;\n",
       "    }\n",
       "\n",
       "    .dataframe tbody tr th {\n",
       "        vertical-align: top;\n",
       "    }\n",
       "\n",
       "    .dataframe thead th {\n",
       "        text-align: right;\n",
       "    }\n",
       "</style>\n",
       "<table border=\"1\" class=\"dataframe\">\n",
       "  <thead>\n",
       "    <tr style=\"text-align: right;\">\n",
       "      <th></th>\n",
       "      <th>Neighborhood</th>\n",
       "      <th>Population</th>\n",
       "      <th>Land area (km2)</th>\n",
       "      <th>Density (people/km2)</th>\n",
       "      <th>Change in Population since 2001 (%)</th>\n",
       "      <th>Average Income (CAD)</th>\n",
       "      <th>Transit Commuting %</th>\n",
       "      <th>Renters (%)</th>\n",
       "      <th>Second language after English</th>\n",
       "      <th>Latitude</th>\n",
       "      <th>Longitude</th>\n",
       "    </tr>\n",
       "  </thead>\n",
       "  <tbody>\n",
       "    <tr>\n",
       "      <th>0</th>\n",
       "      <td>Agincourt</td>\n",
       "      <td>44.577</td>\n",
       "      <td>12.45</td>\n",
       "      <td>3580.000</td>\n",
       "      <td>4.6</td>\n",
       "      <td>25.750</td>\n",
       "      <td>11.1</td>\n",
       "      <td>5.9</td>\n",
       "      <td>Cantonese (19.3%)</td>\n",
       "      <td>43.785353</td>\n",
       "      <td>-79.278549</td>\n",
       "    </tr>\n",
       "    <tr>\n",
       "      <th>1</th>\n",
       "      <td>Alexandra Park</td>\n",
       "      <td>4.355</td>\n",
       "      <td>0.32</td>\n",
       "      <td>13.609</td>\n",
       "      <td>0.0</td>\n",
       "      <td>19.687</td>\n",
       "      <td>13.8</td>\n",
       "      <td>28.0</td>\n",
       "      <td>Cantonese (17.9%)</td>\n",
       "      <td>43.650787</td>\n",
       "      <td>-79.404318</td>\n",
       "    </tr>\n",
       "    <tr>\n",
       "      <th>2</th>\n",
       "      <td>Allenby</td>\n",
       "      <td>2.513</td>\n",
       "      <td>0.58</td>\n",
       "      <td>4333.000</td>\n",
       "      <td>-1.0</td>\n",
       "      <td>245.592</td>\n",
       "      <td>5.2</td>\n",
       "      <td>3.4</td>\n",
       "      <td>Russian (1.4%)</td>\n",
       "      <td>43.712849</td>\n",
       "      <td>-79.547065</td>\n",
       "    </tr>\n",
       "    <tr>\n",
       "      <th>3</th>\n",
       "      <td>Amesbury</td>\n",
       "      <td>17.318</td>\n",
       "      <td>3.51</td>\n",
       "      <td>4.934</td>\n",
       "      <td>1.1</td>\n",
       "      <td>27.546</td>\n",
       "      <td>16.4</td>\n",
       "      <td>19.7</td>\n",
       "      <td>Spanish (6.1%)</td>\n",
       "      <td>43.706162</td>\n",
       "      <td>-79.483492</td>\n",
       "    </tr>\n",
       "    <tr>\n",
       "      <th>4</th>\n",
       "      <td>Armour Heights</td>\n",
       "      <td>4.384</td>\n",
       "      <td>2.29</td>\n",
       "      <td>1914.000</td>\n",
       "      <td>2.0</td>\n",
       "      <td>116.651</td>\n",
       "      <td>10.8</td>\n",
       "      <td>16.1</td>\n",
       "      <td>Russian (9.4%)</td>\n",
       "      <td>43.743944</td>\n",
       "      <td>-79.430851</td>\n",
       "    </tr>\n",
       "  </tbody>\n",
       "</table>\n",
       "</div>"
      ],
      "text/plain": [
       "     Neighborhood  Population  Land area (km2)  Density (people/km2)  \\\n",
       "0       Agincourt      44.577            12.45              3580.000   \n",
       "1  Alexandra Park       4.355             0.32                13.609   \n",
       "2         Allenby       2.513             0.58              4333.000   \n",
       "3        Amesbury      17.318             3.51                 4.934   \n",
       "4  Armour Heights       4.384             2.29              1914.000   \n",
       "\n",
       "   Change in Population since 2001 (%)  Average Income (CAD)  \\\n",
       "0                                  4.6                25.750   \n",
       "1                                  0.0                19.687   \n",
       "2                                 -1.0               245.592   \n",
       "3                                  1.1                27.546   \n",
       "4                                  2.0               116.651   \n",
       "\n",
       "  Transit Commuting %  Renters (%) Second language after English   Latitude  \\\n",
       "0                11.1          5.9             Cantonese (19.3%)  43.785353   \n",
       "1                13.8         28.0             Cantonese (17.9%)  43.650787   \n",
       "2                 5.2          3.4                Russian (1.4%)  43.712849   \n",
       "3                16.4         19.7                Spanish (6.1%)  43.706162   \n",
       "4                10.8         16.1                Russian (9.4%)  43.743944   \n",
       "\n",
       "   Longitude  \n",
       "0 -79.278549  \n",
       "1 -79.404318  \n",
       "2 -79.547065  \n",
       "3 -79.483492  \n",
       "4 -79.430851  "
      ]
     },
     "execution_count": 373,
     "metadata": {},
     "output_type": "execute_result"
    }
   ],
   "source": [
    "df_2 = df_2.assign(Latitude=Lat.values) \n",
    "df_2 = df_2.assign(Longitude=Lon.values) \n",
    "df_2.head()"
   ]
  },
  {
   "cell_type": "markdown",
   "metadata": {},
   "source": [
    "## DONE !!"
   ]
  },
  {
   "cell_type": "markdown",
   "metadata": {},
   "source": [
    "Credentials from \n",
    "https://ru.foursquare.com/developers/apps/002XCF5MADOPDEBGLAMJW5GO2AV3C30U1RRF5RAE53V3Y3MW/settings\n",
    "\n",
    "Client Id\n",
    "002XCF5MADOPDEBGLAMJW5GO2AV3C30U1RRF5RAE53V3Y3MW\n",
    "\n",
    "Client Secret\n",
    "IMRERLDG5HFV1UOH1355WMBJIOTRYCSPV0JUH4XGAL5TOGSN"
   ]
  },
  {
   "cell_type": "markdown",
   "metadata": {},
   "source": [
    "code=P311LZ2TWU1EQXRH0FRTNYRD1KIFDRQJ0AIIB2KTFXBCMM3K#_=_\n",
    "\n",
    "https://foursquare.com/oauth2/access_token?client_id=002XCF5MADOPDEBGLAMJW5GO2AV3C30U1RRF5RAE53V3Y3MW&client_secret=IMRERLDG5HFV1UOH1355WMBJIOTRYCSPV0JUH4XGAL5TOGSN&grant_type=authorization_code&redirect_uri=https://www.google.com&code=P311LZ2TWU1EQXRH0FRTNYRD1KIFDRQJ0AIIB2KTFXBCMM3K#.\n",
    "\n",
    "{\"access_token\":\"LNHEI3W3F4EKYAHKLBR03QNLGFR1RAEJPBZHHKH5XVOU2JDP\"}"
   ]
  },
  {
   "cell_type": "markdown",
   "metadata": {},
   "source": [
    "### Here is a copy of single-loop of \"venues/search\" Foursqueare API request - LIMITED TO 50 MAX"
   ]
  },
  {
   "cell_type": "code",
   "execution_count": null,
   "metadata": {},
   "outputs": [],
   "source": [
    "# getting search center geocoordinates\n",
    "address = 'Toronto, Ontario'\n",
    "geolocator = Nominatim(user_agent=\"foursquare_agent\")\n",
    "location = geolocator.geocode(address)\n",
    "lat_Toronto = location.latitude\n",
    "lng_Toronto = location.longitude\n",
    "\n",
    "# formalising API credentials\n",
    "CLIENT_ID = '002XCF5MADOPDEBGLAMJW5GO2AV3C30U1RRF5RAE53V3Y3MW'\n",
    "CLIENT_SECRET = 'IMRERLDG5HFV1UOH1355WMBJIOTRYCSPV0JUH4XGAL5TOGSN'\n",
    "ACCESS_TOKEN = 'LNHEI3W3F4EKYAHKLBR03QNLGFR1RAEJPBZHHKH5XVOU2JDP'\n",
    "VERSION = '20180604'\n",
    "LIMIT = 50\n",
    "search_query = ['Russian Restaurant']\n",
    "radius = 25000\n",
    "url = 'https://api.foursquare.com/v2/venues/search?client_id={}&client_secret={}&ll={},{}&oauth_token={}&v={}&query={}&radius={}&limit={}'.format(\n",
    "    CLIENT_ID, CLIENT_SECRET, lat_Toronto, lng_Toronto, ACCESS_TOKEN, VERSION, search_query, radius, LIMIT)\n",
    "\n",
    "# making request\n",
    "results = requests.get(url).json()\n",
    "\n",
    "# assign relevant part of JSON to venues\n",
    "venues = results['response']['venues']\n",
    "\n",
    "# tranform venues into a dataframe\n",
    "dataframe = pd.json_normalize(venues)\n",
    "\n",
    "# keep only columns that include venue name, address and location\n",
    "filtered_columns = ['id', 'name', 'categories', 'location.lat', 'location.lng', 'location.address']\n",
    "df_venues = dataframe.loc[:, filtered_columns]\n",
    "\n",
    "# function extracts the category of the venue from the 'caregories' column\n",
    "def get_category_type(row):\n",
    "    try:\n",
    "        categories_list = row['categories']\n",
    "    except:\n",
    "        categories_list = row['venue.categories']\n",
    "    if len(categories_list) == 0:\n",
    "        return None\n",
    "    else:\n",
    "        return categories_list[0]['name']\n",
    "\n",
    "# filter the category for each row\n",
    "df_venues['categories'] = df_venues.apply(get_category_type, axis=1)\n",
    "\n",
    "# Save Toronto venues result dataframe into csv file\n",
    "df_venues.to_csv(r'/Users/borisyushenkov/Desktop/DS_ML_NN/IBM/Filename.csv')"
   ]
  },
  {
   "cell_type": "markdown",
   "metadata": {},
   "source": [
    "# Сalculating the pi number using the Leibniz algorithm"
   ]
  },
  {
   "cell_type": "markdown",
   "metadata": {},
   "source": [
    "### Pi = 4 - 4/3 + 4/5 - 4/7 + 4/9 - ...\n",
    "\n",
    "1) What is interesting about this algorithm is that the number of zeros after one in the number n (where n is a number of iterations) determines the number of correctly counted significant digits in the number Pi. That is, entered n = 1,000,000 (six zeros) - we got the accuracy 3.14159ХХХХХХХХ (six significant numbers)\n",
    "\n",
    "2) The calculation speed is approximately as follows: 10,000 iterations in 1 second (for a MacBookAir 2011 machine with a processor load of about 80%)"
   ]
  },
  {
   "cell_type": "code",
   "execution_count": 2,
   "metadata": {},
   "outputs": [
    {
     "name": "stdin",
     "output_type": "stream",
     "text": [
      "Enter the iterations number...  100000\n"
     ]
    },
    {
     "name": "stdout",
     "output_type": "stream",
     "text": [
      "3.1416026534897203\n"
     ]
    }
   ],
   "source": [
    "import time\n",
    "\n",
    "n = int(input(\"Enter the iterations number... \"))\n",
    "\n",
    "Pi = 4\n",
    "s = 1\n",
    "if n == 0:                      # n should be positive integer\n",
    "    print(Pi)\n",
    "else:\n",
    "    for i in range(n):\n",
    "        m = (i+2)*2 - 1\n",
    "        s = s * (-1)\n",
    "        Pi = Pi + s*4/m\n",
    "        print((i+1), end=\"\\r\")  # the end = \"\\ r\" construct moves coursore to the beginning of the same line\n",
    "time.sleep(2)                   # a timer is needed to see the number of iterations for small n\n",
    "print(Pi)"
   ]
  },
  {
   "cell_type": "code",
   "execution_count": null,
   "metadata": {},
   "outputs": [],
   "source": [
    "# Введите количество итераций  1000000\n",
    "# 3.1415936535887745"
   ]
  }
 ],
 "metadata": {
  "kernelspec": {
   "display_name": "Python 3",
   "language": "python",
   "name": "python3"
  },
  "language_info": {
   "codemirror_mode": {
    "name": "ipython",
    "version": 3
   },
   "file_extension": ".py",
   "mimetype": "text/x-python",
   "name": "python",
   "nbconvert_exporter": "python",
   "pygments_lexer": "ipython3",
   "version": "3.8.5"
  }
 },
 "nbformat": 4,
 "nbformat_minor": 4
}
